{
 "cells": [
  {
   "cell_type": "code",
   "execution_count": 9,
   "source": [
    "!pip install wordcloud"
   ],
   "outputs": [
    {
     "output_type": "stream",
     "name": "stdout",
     "text": [
      "Requirement already satisfied: wordcloud in c:\\users\\lenovo\\.conda\\envs\\tf-gpu\\lib\\site-packages (1.8.1)\n",
      "Requirement already satisfied: matplotlib in c:\\users\\lenovo\\.conda\\envs\\tf-gpu\\lib\\site-packages (from wordcloud) (3.4.2)\n",
      "Requirement already satisfied: pillow in c:\\users\\lenovo\\.conda\\envs\\tf-gpu\\lib\\site-packages (from wordcloud) (8.0.0)\n",
      "Requirement already satisfied: numpy>=1.6.1 in c:\\users\\lenovo\\appdata\\roaming\\python\\python38\\site-packages (from wordcloud) (1.19.5)\n",
      "Requirement already satisfied: pyparsing>=2.2.1 in c:\\users\\lenovo\\.conda\\envs\\tf-gpu\\lib\\site-packages (from matplotlib->wordcloud) (2.4.7)\n",
      "Requirement already satisfied: cycler>=0.10 in c:\\users\\lenovo\\.conda\\envs\\tf-gpu\\lib\\site-packages (from matplotlib->wordcloud) (0.10.0)\n",
      "Requirement already satisfied: python-dateutil>=2.7 in c:\\users\\lenovo\\.conda\\envs\\tf-gpu\\lib\\site-packages (from matplotlib->wordcloud) (2.8.1)\n",
      "Requirement already satisfied: kiwisolver>=1.0.1 in c:\\users\\lenovo\\.conda\\envs\\tf-gpu\\lib\\site-packages (from matplotlib->wordcloud) (1.2.0)\n",
      "Requirement already satisfied: six in c:\\users\\lenovo\\.conda\\envs\\tf-gpu\\lib\\site-packages (from cycler>=0.10->matplotlib->wordcloud) (1.15.0)\n"
     ]
    }
   ],
   "metadata": {}
  },
  {
   "cell_type": "code",
   "execution_count": null,
   "source": [
    "!pip uninstall absl-py"
   ],
   "outputs": [],
   "metadata": {}
  },
  {
   "cell_type": "code",
   "execution_count": null,
   "source": [
    "!pip install absl-py"
   ],
   "outputs": [],
   "metadata": {}
  },
  {
   "cell_type": "code",
   "execution_count": 64,
   "source": [
    "import pandas as pd\r\n",
    "import numpy as np\r\n",
    "import matplotlib.pyplot as plt\r\n",
    "import seaborn as sns\r\n",
    "import io \r\n",
    "import re                                  # library for regular expression operations\r\n",
    "import string                              # for string operations\r\n",
    "from nltk.corpus import stopwords          # module for stop words that come with NLTK\r\n",
    "from nltk.stem import PorterStemmer        # module for stemming\r\n",
    "from nltk.tokenize import regexp_tokenize   # module for tokenizing strings\r\n",
    "from nltk.tokenize import TreebankWordTokenizer\r\n",
    "import nltk \r\n",
    "import numpy as np\r\n",
    "from wordcloud import WordCloud, STOPWORDS\r\n",
    "import matplotlib.pyplot as plt"
   ],
   "outputs": [],
   "metadata": {
    "colab": {
     "base_uri": "https://localhost:8080/"
    },
    "id": "POQpUq40q8k5",
    "outputId": "261c9190-fd57-432b-82ff-c5568e033a11"
   }
  },
  {
   "cell_type": "code",
   "execution_count": 65,
   "source": [
    "train_df = pd.read_csv(r'C:\\Users\\Lenovo\\Desktop\\GP Code\\returns.csv')# change path to csv file\r\n",
    "train_df.head()"
   ],
   "outputs": [
    {
     "output_type": "execute_result",
     "data": {
      "text/plain": [
       "   1\n",
       "0  0\n",
       "1  0\n",
       "2  0\n",
       "3  0\n",
       "4  0"
      ],
      "text/html": [
       "<div>\n",
       "<style scoped>\n",
       "    .dataframe tbody tr th:only-of-type {\n",
       "        vertical-align: middle;\n",
       "    }\n",
       "\n",
       "    .dataframe tbody tr th {\n",
       "        vertical-align: top;\n",
       "    }\n",
       "\n",
       "    .dataframe thead th {\n",
       "        text-align: right;\n",
       "    }\n",
       "</style>\n",
       "<table border=\"1\" class=\"dataframe\">\n",
       "  <thead>\n",
       "    <tr style=\"text-align: right;\">\n",
       "      <th></th>\n",
       "      <th>1</th>\n",
       "    </tr>\n",
       "  </thead>\n",
       "  <tbody>\n",
       "    <tr>\n",
       "      <th>0</th>\n",
       "      <td>0</td>\n",
       "    </tr>\n",
       "    <tr>\n",
       "      <th>1</th>\n",
       "      <td>0</td>\n",
       "    </tr>\n",
       "    <tr>\n",
       "      <th>2</th>\n",
       "      <td>0</td>\n",
       "    </tr>\n",
       "    <tr>\n",
       "      <th>3</th>\n",
       "      <td>0</td>\n",
       "    </tr>\n",
       "    <tr>\n",
       "      <th>4</th>\n",
       "      <td>0</td>\n",
       "    </tr>\n",
       "  </tbody>\n",
       "</table>\n",
       "</div>"
      ]
     },
     "metadata": {},
     "execution_count": 65
    }
   ],
   "metadata": {
    "colab": {
     "base_uri": "https://localhost:8080/",
     "height": 204
    },
    "id": "zKq9SfCjqAkT",
    "outputId": "84e19602-4fb0-4648-fd3e-05d6bd4b19d8"
   }
  },
  {
   "cell_type": "code",
   "execution_count": null,
   "source": [],
   "outputs": [],
   "metadata": {}
  },
  {
   "cell_type": "markdown",
   "source": [
    "# Clean Data\n"
   ],
   "metadata": {
    "id": "RgvB2kbWqWKh"
   }
  },
  {
   "cell_type": "markdown",
   "source": [
    "### Remove any empty row after cleaning"
   ],
   "metadata": {}
  },
  {
   "cell_type": "code",
   "execution_count": 12,
   "source": [
    "train_df['tweet'].replace('', np.nan, inplace=True)\r\n",
    "train_df.dropna(subset=['tweet'], inplace=True)"
   ],
   "outputs": [],
   "metadata": {}
  },
  {
   "cell_type": "markdown",
   "source": [
    "### Remove @ username in Twitter"
   ],
   "metadata": {
    "id": "Z7kn7vX4ox-y"
   }
  },
  {
   "cell_type": "code",
   "execution_count": 13,
   "source": [
    "def remove_at_user(text):\r\n",
    "\r\n",
    "    \"\"\"\r\n",
    "      Remove @username from tweets\r\n",
    "    \"\"\"\r\n",
    "#     print(text)\r\n",
    "    return re.sub(\"@[A-Za-z0-9]+\",\"\",str(text))"
   ],
   "outputs": [],
   "metadata": {
    "id": "6hOGd94tsL8n"
   }
  },
  {
   "cell_type": "code",
   "execution_count": 14,
   "source": [
    "train_df[\"text_clean\"] = train_df[\"tweet\"].apply(lambda x: remove_at_user(x))"
   ],
   "outputs": [],
   "metadata": {
    "id": "hjhj4Vv5tSzj"
   }
  },
  {
   "cell_type": "markdown",
   "source": [
    "###  Contractions \n",
    "\n",
    "We use the contractions package to expand the contraction in English such as we'll -> we will or we shouldn't've -> we should not have."
   ],
   "metadata": {
    "id": "9b1XThQboDLi"
   }
  },
  {
   "cell_type": "code",
   "execution_count": 15,
   "source": [
    "!pip install contractions\r\n"
   ],
   "outputs": [
    {
     "output_type": "stream",
     "name": "stdout",
     "text": [
      "Collecting contractions\n",
      "  Downloading contractions-0.0.52-py2.py3-none-any.whl (7.2 kB)\n",
      "Collecting textsearch>=0.0.21\n",
      "  Using cached textsearch-0.0.21-py2.py3-none-any.whl (7.5 kB)\n",
      "Collecting anyascii\n",
      "  Using cached anyascii-0.2.0-py3-none-any.whl (283 kB)\n",
      "Collecting pyahocorasick\n",
      "  Using cached pyahocorasick-1.4.2-cp38-cp38-win_amd64.whl\n",
      "Installing collected packages: pyahocorasick, anyascii, textsearch, contractions\n",
      "Successfully installed anyascii-0.2.0 contractions-0.0.52 pyahocorasick-1.4.2 textsearch-0.0.21\n"
     ]
    }
   ],
   "metadata": {
    "colab": {
     "base_uri": "https://localhost:8080/"
    },
    "id": "SdIiCz30q_c0",
    "outputId": "17deb78e-c79a-49bd-e969-4b448168d56f"
   }
  },
  {
   "cell_type": "code",
   "execution_count": 16,
   "source": [
    "import contractions\r\n",
    "train_df[\"text_clean\"] = train_df[\"text_clean\"].apply(lambda x: contractions.fix(x))"
   ],
   "outputs": [],
   "metadata": {
    "id": "Kx5ic9egrlK-"
   }
  },
  {
   "cell_type": "code",
   "execution_count": 17,
   "source": [
    "print(contractions.fix(\"you don't deserve to exist \"))"
   ],
   "outputs": [
    {
     "output_type": "stream",
     "name": "stdout",
     "text": [
      "you do not deserve to exist \n"
     ]
    }
   ],
   "metadata": {}
  },
  {
   "cell_type": "markdown",
   "source": [
    "### Repeat the captial words \n",
    "Here we repeat the Captial words to confirm the meaning of this word as the user try to focus on it\n"
   ],
   "metadata": {
    "id": "QHdZgf8Sgoi5"
   }
  },
  {
   "cell_type": "code",
   "execution_count": 18,
   "source": [
    "!pip install nltk\r\n",
    "import nltk\r\n",
    "nltk.download('punkt')\r\n",
    "from nltk.tokenize import word_tokenize\r\n",
    "train_df['tokenized'] = train_df[\"text_clean\"].apply(word_tokenize)\r\n",
    "train_df.head()\r\n"
   ],
   "outputs": [
    {
     "output_type": "stream",
     "name": "stdout",
     "text": [
      "Requirement already satisfied: nltk in c:\\users\\lenovo\\.conda\\envs\\tf-gpu\\lib\\site-packages (3.6.2)\n",
      "Requirement already satisfied: regex in c:\\users\\lenovo\\.conda\\envs\\tf-gpu\\lib\\site-packages (from nltk) (2021.4.4)\n",
      "Requirement already satisfied: tqdm in c:\\users\\lenovo\\.conda\\envs\\tf-gpu\\lib\\site-packages (from nltk) (4.61.1)\n",
      "Requirement already satisfied: joblib in c:\\users\\lenovo\\.conda\\envs\\tf-gpu\\lib\\site-packages (from nltk) (0.17.0)\n",
      "Requirement already satisfied: click in c:\\users\\lenovo\\.conda\\envs\\tf-gpu\\lib\\site-packages (from nltk) (7.1.2)\n"
     ]
    },
    {
     "output_type": "stream",
     "name": "stderr",
     "text": [
      "[nltk_data] Error loading punkt: <urlopen error [SSL:\n",
      "[nltk_data]     CERTIFICATE_VERIFY_FAILED] certificate verify failed:\n",
      "[nltk_data]     unable to get local issuer certificate (_ssl.c:1108)>\n"
     ]
    },
    {
     "output_type": "execute_result",
     "data": {
      "text/plain": [
       "                                               tweet  label  \\\n",
       "0                    i don't like chatting with you.      0   \n",
       "1  you do not have friends, cause no body loves you.      1   \n",
       "2                        you don't deserve to exist.      1   \n",
       "3                   no one cares about your opinion.      1   \n",
       "4                                no one respect you.      1   \n",
       "\n",
       "                                          text_clean  \\\n",
       "0                   i do not like chatting with you.   \n",
       "1  you do not have friends, because no body loves...   \n",
       "2                       you do not deserve to exist.   \n",
       "3                   no one cares about your opinion.   \n",
       "4                                no one respect you.   \n",
       "\n",
       "                                           tokenized  \n",
       "0         [i, do, not, like, chatting, with, you, .]  \n",
       "1  [you, do, not, have, friends, ,, because, no, ...  \n",
       "2              [you, do, not, deserve, to, exist, .]  \n",
       "3          [no, one, cares, about, your, opinion, .]  \n",
       "4                         [no, one, respect, you, .]  "
      ],
      "text/html": [
       "<div>\n",
       "<style scoped>\n",
       "    .dataframe tbody tr th:only-of-type {\n",
       "        vertical-align: middle;\n",
       "    }\n",
       "\n",
       "    .dataframe tbody tr th {\n",
       "        vertical-align: top;\n",
       "    }\n",
       "\n",
       "    .dataframe thead th {\n",
       "        text-align: right;\n",
       "    }\n",
       "</style>\n",
       "<table border=\"1\" class=\"dataframe\">\n",
       "  <thead>\n",
       "    <tr style=\"text-align: right;\">\n",
       "      <th></th>\n",
       "      <th>tweet</th>\n",
       "      <th>label</th>\n",
       "      <th>text_clean</th>\n",
       "      <th>tokenized</th>\n",
       "    </tr>\n",
       "  </thead>\n",
       "  <tbody>\n",
       "    <tr>\n",
       "      <th>0</th>\n",
       "      <td>i don't like chatting with you.</td>\n",
       "      <td>0</td>\n",
       "      <td>i do not like chatting with you.</td>\n",
       "      <td>[i, do, not, like, chatting, with, you, .]</td>\n",
       "    </tr>\n",
       "    <tr>\n",
       "      <th>1</th>\n",
       "      <td>you do not have friends, cause no body loves you.</td>\n",
       "      <td>1</td>\n",
       "      <td>you do not have friends, because no body loves...</td>\n",
       "      <td>[you, do, not, have, friends, ,, because, no, ...</td>\n",
       "    </tr>\n",
       "    <tr>\n",
       "      <th>2</th>\n",
       "      <td>you don't deserve to exist.</td>\n",
       "      <td>1</td>\n",
       "      <td>you do not deserve to exist.</td>\n",
       "      <td>[you, do, not, deserve, to, exist, .]</td>\n",
       "    </tr>\n",
       "    <tr>\n",
       "      <th>3</th>\n",
       "      <td>no one cares about your opinion.</td>\n",
       "      <td>1</td>\n",
       "      <td>no one cares about your opinion.</td>\n",
       "      <td>[no, one, cares, about, your, opinion, .]</td>\n",
       "    </tr>\n",
       "    <tr>\n",
       "      <th>4</th>\n",
       "      <td>no one respect you.</td>\n",
       "      <td>1</td>\n",
       "      <td>no one respect you.</td>\n",
       "      <td>[no, one, respect, you, .]</td>\n",
       "    </tr>\n",
       "  </tbody>\n",
       "</table>\n",
       "</div>"
      ]
     },
     "metadata": {},
     "execution_count": 18
    }
   ],
   "metadata": {
    "colab": {
     "base_uri": "https://localhost:8080/",
     "height": 272
    },
    "id": "l8zIkM2igy5i",
    "outputId": "b0874d5c-fea1-4d53-f574-526e44eb9026"
   }
  },
  {
   "cell_type": "code",
   "execution_count": 19,
   "source": [
    "train_df['text_clean']=train_df['tokenized'].apply(lambda x:  [word  if word.isupper() == False else word+\" \"+word  for word in x]) \r\n",
    "train_df['text_clean'] = [' '.join(map(str, l)) for l in train_df['text_clean']] # join back to text"
   ],
   "outputs": [],
   "metadata": {
    "id": "f7BqLRrIIaoa"
   }
  },
  {
   "cell_type": "code",
   "execution_count": 20,
   "source": [
    "train_df.head()"
   ],
   "outputs": [
    {
     "output_type": "execute_result",
     "data": {
      "text/plain": [
       "                                               tweet  label  \\\n",
       "0                    i don't like chatting with you.      0   \n",
       "1  you do not have friends, cause no body loves you.      1   \n",
       "2                        you don't deserve to exist.      1   \n",
       "3                   no one cares about your opinion.      1   \n",
       "4                                no one respect you.      1   \n",
       "\n",
       "                                          text_clean  \\\n",
       "0                  i do not like chatting with you .   \n",
       "1  you do not have friends , because no body love...   \n",
       "2                      you do not deserve to exist .   \n",
       "3                  no one cares about your opinion .   \n",
       "4                               no one respect you .   \n",
       "\n",
       "                                           tokenized  \n",
       "0         [i, do, not, like, chatting, with, you, .]  \n",
       "1  [you, do, not, have, friends, ,, because, no, ...  \n",
       "2              [you, do, not, deserve, to, exist, .]  \n",
       "3          [no, one, cares, about, your, opinion, .]  \n",
       "4                         [no, one, respect, you, .]  "
      ],
      "text/html": [
       "<div>\n",
       "<style scoped>\n",
       "    .dataframe tbody tr th:only-of-type {\n",
       "        vertical-align: middle;\n",
       "    }\n",
       "\n",
       "    .dataframe tbody tr th {\n",
       "        vertical-align: top;\n",
       "    }\n",
       "\n",
       "    .dataframe thead th {\n",
       "        text-align: right;\n",
       "    }\n",
       "</style>\n",
       "<table border=\"1\" class=\"dataframe\">\n",
       "  <thead>\n",
       "    <tr style=\"text-align: right;\">\n",
       "      <th></th>\n",
       "      <th>tweet</th>\n",
       "      <th>label</th>\n",
       "      <th>text_clean</th>\n",
       "      <th>tokenized</th>\n",
       "    </tr>\n",
       "  </thead>\n",
       "  <tbody>\n",
       "    <tr>\n",
       "      <th>0</th>\n",
       "      <td>i don't like chatting with you.</td>\n",
       "      <td>0</td>\n",
       "      <td>i do not like chatting with you .</td>\n",
       "      <td>[i, do, not, like, chatting, with, you, .]</td>\n",
       "    </tr>\n",
       "    <tr>\n",
       "      <th>1</th>\n",
       "      <td>you do not have friends, cause no body loves you.</td>\n",
       "      <td>1</td>\n",
       "      <td>you do not have friends , because no body love...</td>\n",
       "      <td>[you, do, not, have, friends, ,, because, no, ...</td>\n",
       "    </tr>\n",
       "    <tr>\n",
       "      <th>2</th>\n",
       "      <td>you don't deserve to exist.</td>\n",
       "      <td>1</td>\n",
       "      <td>you do not deserve to exist .</td>\n",
       "      <td>[you, do, not, deserve, to, exist, .]</td>\n",
       "    </tr>\n",
       "    <tr>\n",
       "      <th>3</th>\n",
       "      <td>no one cares about your opinion.</td>\n",
       "      <td>1</td>\n",
       "      <td>no one cares about your opinion .</td>\n",
       "      <td>[no, one, cares, about, your, opinion, .]</td>\n",
       "    </tr>\n",
       "    <tr>\n",
       "      <th>4</th>\n",
       "      <td>no one respect you.</td>\n",
       "      <td>1</td>\n",
       "      <td>no one respect you .</td>\n",
       "      <td>[no, one, respect, you, .]</td>\n",
       "    </tr>\n",
       "  </tbody>\n",
       "</table>\n",
       "</div>"
      ]
     },
     "metadata": {},
     "execution_count": 20
    }
   ],
   "metadata": {
    "colab": {
     "base_uri": "https://localhost:8080/",
     "height": 204
    },
    "id": "XSid1k5Tl267",
    "outputId": "5fb363b9-1afd-4bca-dee9-1f5503e9b91d"
   }
  },
  {
   "cell_type": "markdown",
   "source": [
    "###  Covert to lower case"
   ],
   "metadata": {
    "id": "jdh6w0c9gzki"
   }
  },
  {
   "cell_type": "code",
   "execution_count": 21,
   "source": [
    "train_df[\"text_clean\"] = train_df[\"text_clean\"].apply(lambda x: x.lower())\r\n",
    "display(train_df.head())"
   ],
   "outputs": [
    {
     "output_type": "display_data",
     "data": {
      "text/plain": [
       "                                               tweet  label  \\\n",
       "0                    i don't like chatting with you.      0   \n",
       "1  you do not have friends, cause no body loves you.      1   \n",
       "2                        you don't deserve to exist.      1   \n",
       "3                   no one cares about your opinion.      1   \n",
       "4                                no one respect you.      1   \n",
       "\n",
       "                                          text_clean  \\\n",
       "0                  i do not like chatting with you .   \n",
       "1  you do not have friends , because no body love...   \n",
       "2                      you do not deserve to exist .   \n",
       "3                  no one cares about your opinion .   \n",
       "4                               no one respect you .   \n",
       "\n",
       "                                           tokenized  \n",
       "0         [i, do, not, like, chatting, with, you, .]  \n",
       "1  [you, do, not, have, friends, ,, because, no, ...  \n",
       "2              [you, do, not, deserve, to, exist, .]  \n",
       "3          [no, one, cares, about, your, opinion, .]  \n",
       "4                         [no, one, respect, you, .]  "
      ],
      "text/html": [
       "<div>\n",
       "<style scoped>\n",
       "    .dataframe tbody tr th:only-of-type {\n",
       "        vertical-align: middle;\n",
       "    }\n",
       "\n",
       "    .dataframe tbody tr th {\n",
       "        vertical-align: top;\n",
       "    }\n",
       "\n",
       "    .dataframe thead th {\n",
       "        text-align: right;\n",
       "    }\n",
       "</style>\n",
       "<table border=\"1\" class=\"dataframe\">\n",
       "  <thead>\n",
       "    <tr style=\"text-align: right;\">\n",
       "      <th></th>\n",
       "      <th>tweet</th>\n",
       "      <th>label</th>\n",
       "      <th>text_clean</th>\n",
       "      <th>tokenized</th>\n",
       "    </tr>\n",
       "  </thead>\n",
       "  <tbody>\n",
       "    <tr>\n",
       "      <th>0</th>\n",
       "      <td>i don't like chatting with you.</td>\n",
       "      <td>0</td>\n",
       "      <td>i do not like chatting with you .</td>\n",
       "      <td>[i, do, not, like, chatting, with, you, .]</td>\n",
       "    </tr>\n",
       "    <tr>\n",
       "      <th>1</th>\n",
       "      <td>you do not have friends, cause no body loves you.</td>\n",
       "      <td>1</td>\n",
       "      <td>you do not have friends , because no body love...</td>\n",
       "      <td>[you, do, not, have, friends, ,, because, no, ...</td>\n",
       "    </tr>\n",
       "    <tr>\n",
       "      <th>2</th>\n",
       "      <td>you don't deserve to exist.</td>\n",
       "      <td>1</td>\n",
       "      <td>you do not deserve to exist .</td>\n",
       "      <td>[you, do, not, deserve, to, exist, .]</td>\n",
       "    </tr>\n",
       "    <tr>\n",
       "      <th>3</th>\n",
       "      <td>no one cares about your opinion.</td>\n",
       "      <td>1</td>\n",
       "      <td>no one cares about your opinion .</td>\n",
       "      <td>[no, one, cares, about, your, opinion, .]</td>\n",
       "    </tr>\n",
       "    <tr>\n",
       "      <th>4</th>\n",
       "      <td>no one respect you.</td>\n",
       "      <td>1</td>\n",
       "      <td>no one respect you .</td>\n",
       "      <td>[no, one, respect, you, .]</td>\n",
       "    </tr>\n",
       "  </tbody>\n",
       "</table>\n",
       "</div>"
      ]
     },
     "metadata": {}
    }
   ],
   "metadata": {
    "colab": {
     "base_uri": "https://localhost:8080/",
     "height": 204
    },
    "id": "auI4cFbvqbCY",
    "outputId": "a95d5acd-c800-48de-ba08-403ef74a1bfc"
   }
  },
  {
   "cell_type": "markdown",
   "source": [
    "### Remove any URLS"
   ],
   "metadata": {
    "id": "yvy5NH5CojyJ"
   }
  },
  {
   "cell_type": "code",
   "execution_count": 22,
   "source": [
    "def remove_URL(text):\r\n",
    "    \"\"\"\r\n",
    "        Remove URLs from a sample string\r\n",
    "    \"\"\"\r\n",
    "\r\n",
    "    return re.sub(r\"https?://\\S+|www\\.\\S+\", \"\", text)"
   ],
   "outputs": [],
   "metadata": {
    "id": "uIHYHjOtrMIc"
   }
  },
  {
   "cell_type": "code",
   "execution_count": 23,
   "source": [
    "train_df[\"text_clean\"] = train_df[\"text_clean\"].apply(lambda x: remove_URL(x))"
   ],
   "outputs": [],
   "metadata": {
    "id": "m3d4iMiNrPn0"
   }
  },
  {
   "cell_type": "markdown",
   "source": [
    "### Remove HTML Tages"
   ],
   "metadata": {
    "id": "DFejSgwJos7I"
   }
  },
  {
   "cell_type": "code",
   "execution_count": 24,
   "source": [
    "def remove_html(text):\r\n",
    "    \"\"\"\r\n",
    "        Remove the html in sample text\r\n",
    "    \"\"\"\r\n",
    "    html = re.compile(r\"<.*?>|&([a-z0-9]+|#[0-9]{1,6}|#x[0-9a-f]{1,6});\")\r\n",
    "    return re.sub(html, \"\", text)"
   ],
   "outputs": [],
   "metadata": {
    "id": "w-DOPNF2r27r"
   }
  },
  {
   "cell_type": "code",
   "execution_count": 25,
   "source": [
    "train_df[\"text_clean\"] = train_df[\"text_clean\"].apply(lambda x: remove_html(x))"
   ],
   "outputs": [],
   "metadata": {
    "id": "sH3wQ3Emr5vP"
   }
  },
  {
   "cell_type": "markdown",
   "source": [
    "### Remove Numbers"
   ],
   "metadata": {
    "id": "TheQoNce00Tb"
   }
  },
  {
   "cell_type": "code",
   "execution_count": 26,
   "source": [
    "def Remove_numbers(text):\r\n",
    "\r\n",
    "    \"\"\"\r\n",
    "      Remove the numbers in text \r\n",
    "    \"\"\"\r\n",
    "    result = ''.join(i for i in text if not i.isdigit())\r\n",
    "    return result"
   ],
   "outputs": [],
   "metadata": {
    "id": "IxpoqYt80t1x"
   }
  },
  {
   "cell_type": "code",
   "execution_count": 27,
   "source": [
    "s =  \"i love you 10000000000 times\"\r\n",
    "print(Remove_numbers(s))"
   ],
   "outputs": [
    {
     "output_type": "stream",
     "name": "stdout",
     "text": [
      "i love you  times\n"
     ]
    }
   ],
   "metadata": {
    "colab": {
     "base_uri": "https://localhost:8080/"
    },
    "id": "T9b62xX21XM_",
    "outputId": "c9fd0a0a-9a28-4418-91c7-2ba74e814f99"
   }
  },
  {
   "cell_type": "code",
   "execution_count": 28,
   "source": [
    "train_df[\"text_clean\"] = train_df[\"text_clean\"].apply(lambda x: Remove_numbers(x))"
   ],
   "outputs": [],
   "metadata": {
    "id": "q9t5H2bn1SrZ"
   }
  },
  {
   "cell_type": "markdown",
   "source": [
    "### Replace the Typos, slang, acronyms or informal abbreviations"
   ],
   "metadata": {
    "id": "B1Weuyiwo9NE"
   }
  },
  {
   "cell_type": "code",
   "execution_count": 29,
   "source": [
    "def informalAbbreviations_clean(text):\r\n",
    "        \"\"\"\r\n",
    "            Other manual text cleaning techniques\r\n",
    "        \"\"\"\r\n",
    "        # Typos, slang and other\r\n",
    "        sample_typos_slang = {\r\n",
    "                                \"w/e\": \"whatever\",\r\n",
    "                                \"usagov\": \"usa government\",\r\n",
    "                                \"recentlu\": \"recently\",\r\n",
    "                                \"ph0tos\": \"photos\",\r\n",
    "                                \"amirite\": \"am i right\",\r\n",
    "                                \"exp0sed\": \"exposed\",\r\n",
    "                                \"<3\": \"love\",\r\n",
    "                                \"luv\": \"love\",\r\n",
    "                                \"amageddon\": \"armageddon\",\r\n",
    "                                \"trfc\": \"traffic\",\r\n",
    "                                \"16yr\": \"16 year\"\r\n",
    "                                }\r\n",
    "\r\n",
    "        # Acronyms\r\n",
    "        sample_acronyms =  { \r\n",
    "                            \"mh370\": \"malaysia airlines flight 370\",\r\n",
    "                            \"okwx\": \"oklahoma city weather\",\r\n",
    "                            \"arwx\": \"arkansas weather\",    \r\n",
    "                            \"gawx\": \"georgia weather\",  \r\n",
    "                            \"scwx\": \"south carolina weather\",  \r\n",
    "                            \"cawx\": \"california weather\",\r\n",
    "                            \"tnwx\": \"tennessee weather\",\r\n",
    "                            \"azwx\": \"arizona weather\",  \r\n",
    "                            \"alwx\": \"alabama weather\",\r\n",
    "                            \"usnwsgov\": \"united states national weather service\",\r\n",
    "                            \"2mw\": \"tomorrow\"\r\n",
    "                            }\r\n",
    "\r\n",
    "        \r\n",
    "        # Some common abbreviations \r\n",
    "        sample_abbr = {\r\n",
    "                        \"$\" : \" dollar \",\r\n",
    "                        \"€\" : \" euro \",\r\n",
    "                        \"4ao\" : \"for adults only\",\r\n",
    "                        \"a.m\" : \"before midday\",\r\n",
    "                        \"a3\" : \"anytime anywhere anyplace\",\r\n",
    "                        \"aamof\" : \"as a matter of fact\",\r\n",
    "                        \"acct\" : \"account\",\r\n",
    "                        \"adih\" : \"another day in hell\",\r\n",
    "                        \"afaic\" : \"as far as i am concerned\",\r\n",
    "                        \"afaict\" : \"as far as i can tell\",\r\n",
    "                        \"afaik\" : \"as far as i know\",\r\n",
    "                        \"afair\" : \"as far as i remember\",\r\n",
    "                        \"afk\" : \"away from keyboard\",\r\n",
    "                        \"app\" : \"application\",\r\n",
    "                        \"approx\" : \"approximately\",\r\n",
    "                        \"apps\" : \"applications\",\r\n",
    "                        \"asap\" : \"as soon as possible\",\r\n",
    "                        \"asl\" : \"age, sex, location\",\r\n",
    "                        \"atk\" : \"at the keyboard\",\r\n",
    "                        \"ave.\" : \"avenue\",\r\n",
    "                        \"aymm\" : \"are you my mother\",\r\n",
    "                        \"ayor\" : \"at your own risk\", \r\n",
    "                        \"b&b\" : \"bed and breakfast\",\r\n",
    "                        \"b+b\" : \"bed and breakfast\",\r\n",
    "                        \"b.c\" : \"before christ\",\r\n",
    "                        \"b2b\" : \"business to business\",\r\n",
    "                        \"b2c\" : \"business to customer\",\r\n",
    "                        \"b4\" : \"before\",\r\n",
    "                        \"b4n\" : \"bye for now\",\r\n",
    "                        \"b@u\" : \"back at you\",\r\n",
    "                        \"bae\" : \"before anyone else\",\r\n",
    "                        \"bak\" : \"back at keyboard\",\r\n",
    "                        \"bbbg\" : \"bye bye be good\",\r\n",
    "                        \"bbc\" : \"british broadcasting corporation\",\r\n",
    "                        \"bbias\" : \"be back in a second\",\r\n",
    "                        \"bbl\" : \"be back later\",\r\n",
    "                        \"bbs\" : \"be back soon\",\r\n",
    "                        \"be4\" : \"before\",\r\n",
    "                        \"bfn\" : \"bye for now\",\r\n",
    "                        \"blvd\" : \"boulevard\",\r\n",
    "                        \"bout\" : \"about\",\r\n",
    "                        \"brb\" : \"be right back\",\r\n",
    "                        \"bros\" : \"brothers\",\r\n",
    "                        \"brt\" : \"be right there\",\r\n",
    "                        \"bsaaw\" : \"big smile and a wink\",\r\n",
    "                        \"btw\" : \"by the way\",\r\n",
    "                        \"bwl\" : \"bursting with laughter\",\r\n",
    "                        \"c/o\" : \"care of\",\r\n",
    "                        \"cet\" : \"central european time\",\r\n",
    "                        \"cf\" : \"compare\",\r\n",
    "                        \"cia\" : \"central intelligence agency\",\r\n",
    "                        \"csl\" : \"can not stop laughing\",\r\n",
    "                        \"cu\" : \"see you\",\r\n",
    "                        \"cul8r\" : \"see you later\",\r\n",
    "                        \"cv\" : \"curriculum vitae\",\r\n",
    "                        \"cwot\" : \"complete waste of time\",\r\n",
    "                        \"cya\" : \"see you\",\r\n",
    "                        \"cyt\" : \"see you tomorrow\",\r\n",
    "                        \"dae\" : \"does anyone else\",\r\n",
    "                        \"dbmib\" : \"do not bother me i am busy\",\r\n",
    "                        \"diy\" : \"do it yourself\",\r\n",
    "                        \"dm\" : \"direct message\",\r\n",
    "                        \"dwh\" : \"during work hours\",\r\n",
    "                        \"e123\" : \"easy as one two three\",\r\n",
    "                        \"eet\" : \"eastern european time\",\r\n",
    "                        \"eg\" : \"example\",\r\n",
    "                        \"embm\" : \"early morning business meeting\",\r\n",
    "                        \"encl\" : \"enclosed\",\r\n",
    "                        \"encl.\" : \"enclosed\",\r\n",
    "                        \"etc\" : \"and so on\",\r\n",
    "                        \"faq\" : \"frequently asked questions\",\r\n",
    "                        \"fawc\" : \"for anyone who cares\",\r\n",
    "                        \"fb\" : \"facebook\",\r\n",
    "                        \"fc\" : \"fingers crossed\",\r\n",
    "                        \"fig\" : \"figure\",\r\n",
    "                        \"fimh\" : \"forever in my heart\", \r\n",
    "                        \"ft.\" : \"feet\",\r\n",
    "                        \"ft\" : \"featuring\",\r\n",
    "                        \"ftl\" : \"for the loss\",\r\n",
    "                        \"ftw\" : \"for the win\",\r\n",
    "                        \"fwiw\" : \"for what it is worth\",\r\n",
    "                        \"fyi\" : \"for your information\",\r\n",
    "                        \"g9\" : \"genius\",\r\n",
    "                        \"gahoy\" : \"get a hold of yourself\",\r\n",
    "                        \"gal\" : \"get a life\",\r\n",
    "                        \"gcse\" : \"general certificate of secondary education\",\r\n",
    "                        \"gfn\" : \"gone for now\",\r\n",
    "                        \"gg\" : \"good game\",\r\n",
    "                        \"gl\" : \"good luck\",\r\n",
    "                        \"glhf\" : \"good luck have fun\",\r\n",
    "                        \"gmt\" : \"greenwich mean time\",\r\n",
    "                        \"gmta\" : \"great minds think alike\",\r\n",
    "                        \"gn\" : \"good night\",\r\n",
    "                        \"g.o.a.t\" : \"greatest of all time\",\r\n",
    "                        \"goat\" : \"greatest of all time\",\r\n",
    "                        \"goi\" : \"get over it\",\r\n",
    "                        \"gps\" : \"global positioning system\",\r\n",
    "                        \"gr8\" : \"great\",\r\n",
    "                        \"gratz\" : \"congratulations\",\r\n",
    "                        \"gyal\" : \"girl\",\r\n",
    "                        \"h&c\" : \"hot and cold\",\r\n",
    "                        \"hp\" : \"horsepower\",\r\n",
    "                        \"hr\" : \"hour\",\r\n",
    "                        \"hrh\" : \"his royal highness\",\r\n",
    "                        \"ht\" : \"height\",\r\n",
    "                        \"ibrb\" : \"i will be right back\",\r\n",
    "                        \"ic\" : \"i see\",\r\n",
    "                        \"icq\" : \"i seek you\",\r\n",
    "                        \"icymi\" : \"in case you missed it\",\r\n",
    "                        \"idc\" : \"i do not care\",\r\n",
    "                        \"idgadf\" : \"i do not give a damn fuck\",\r\n",
    "                        \"idgaf\" : \"i do not give a fuck\",\r\n",
    "                        \"idk\" : \"i do not know\",\r\n",
    "                        \"ie\" : \"that is\",\r\n",
    "                        \"i.e\" : \"that is\",\r\n",
    "                        \"ifyp\" : \"i feel your pain\",\r\n",
    "                        \"IG\" : \"instagram\",\r\n",
    "                        \"iirc\" : \"if i remember correctly\",\r\n",
    "                        \"ilu\" : \"i love you\",\r\n",
    "                        \"ily\" : \"i love you\",\r\n",
    "                        \"imho\" : \"in my humble opinion\",\r\n",
    "                        \"imo\" : \"in my opinion\",\r\n",
    "                        \"imu\" : \"i miss you\",\r\n",
    "                        \"iow\" : \"in other words\",\r\n",
    "                        \"irl\" : \"in real life\",\r\n",
    "                        \"j4f\" : \"just for fun\",\r\n",
    "                        \"jic\" : \"just in case\",\r\n",
    "                        \"jk\" : \"just kidding\",\r\n",
    "                        \"jsyk\" : \"just so you know\",\r\n",
    "                        \"l8r\" : \"later\",\r\n",
    "                        \"lb\" : \"pound\",\r\n",
    "                        \"lbs\" : \"pounds\",\r\n",
    "                        \"ldr\" : \"long distance relationship\",\r\n",
    "                        \"lmao\" : \"laugh my ass off\",\r\n",
    "                        \"lmfao\" : \"laugh my fucking ass off\",\r\n",
    "                        \"lol\" : \"laughing out loud\",\r\n",
    "                        \"ltd\" : \"limited\",\r\n",
    "                        \"ltns\" : \"long time no see\",\r\n",
    "                        \"m8\" : \"mate\",\r\n",
    "                        \"mf\" : \"motherfucker\",\r\n",
    "                        \"mfs\" : \"motherfuckers\",\r\n",
    "                        \"mfw\" : \"my face when\",\r\n",
    "                        \"mofo\" : \"motherfucker\",\r\n",
    "                        \"mph\" : \"miles per hour\",\r\n",
    "                        \"mr\" : \"mister\",\r\n",
    "                        \"mrw\" : \"my reaction when\",\r\n",
    "                        \"ms\" : \"miss\",\r\n",
    "                        \"mte\" : \"my thoughts exactly\",\r\n",
    "                        \"nagi\" : \"not a good idea\",\r\n",
    "                        \"nbc\" : \"national broadcasting company\",\r\n",
    "                        \"nbd\" : \"not big deal\",\r\n",
    "                        \"nfs\" : \"not for sale\",\r\n",
    "                        \"ngl\" : \"not going to lie\",\r\n",
    "                        \"nhs\" : \"national health service\",\r\n",
    "                        \"nrn\" : \"no reply necessary\",\r\n",
    "                        \"nsfl\" : \"not safe for life\",\r\n",
    "                        \"nsfw\" : \"not safe for work\",\r\n",
    "                        \"nth\" : \"nice to have\",\r\n",
    "                        \"nvr\" : \"never\",\r\n",
    "                        \"nyc\" : \"new york city\",\r\n",
    "                        \"oc\" : \"original content\",\r\n",
    "                        \"og\" : \"original\",\r\n",
    "                        \"ohp\" : \"overhead projector\",\r\n",
    "                        \"oic\" : \"oh i see\",\r\n",
    "                        \"omdb\" : \"over my dead body\",\r\n",
    "                        \"omg\" : \"oh my god\",\r\n",
    "                        \"omw\" : \"on my way\",\r\n",
    "                        \"p.a\" : \"per annum\",\r\n",
    "                        \"p.m\" : \"after midday\",\r\n",
    "                        \"pm\" : \"prime minister\",\r\n",
    "                        \"poc\" : \"people of color\",\r\n",
    "                        \"pov\" : \"point of view\",\r\n",
    "                        \"pp\" : \"pages\",\r\n",
    "                        \"ppl\" : \"people\",\r\n",
    "                        \"prw\" : \"parents are watching\",\r\n",
    "                        \"ps\" : \"postscript\",\r\n",
    "                        \"pt\" : \"point\",\r\n",
    "                        \"ptb\" : \"please text back\",\r\n",
    "                        \"pto\" : \"please turn over\",\r\n",
    "                        \"qpsa\" : \"what happens\", #\"que pasa\",\r\n",
    "                        \"ratchet\" : \"rude\",\r\n",
    "                        \"rbtl\" : \"read between the lines\",\r\n",
    "                        \"rlrt\" : \"real life retweet\", \r\n",
    "                        \"rofl\" : \"rolling on the floor laughing\",\r\n",
    "                        \"roflol\" : \"rolling on the floor laughing out loud\",\r\n",
    "                        \"rotflmao\" : \"rolling on the floor laughing my ass off\",\r\n",
    "                        \"rt\" : \"retweet\",\r\n",
    "                        \"ruok\" : \"are you ok\",\r\n",
    "                        \"sfw\" : \"safe for work\",\r\n",
    "                        \"sk8\" : \"skate\",\r\n",
    "                        \"smh\" : \"shake my head\",\r\n",
    "                        \"sq\" : \"square\",\r\n",
    "                        \"srsly\" : \"seriously\", \r\n",
    "                        \"ssdd\" : \"same stuff different day\",\r\n",
    "                        \"tbh\" : \"to be honest\",\r\n",
    "                        \"tbs\" : \"tablespooful\",\r\n",
    "                        \"tbsp\" : \"tablespooful\",\r\n",
    "                        \"tfw\" : \"that feeling when\",\r\n",
    "                        \"thks\" : \"thank you\",\r\n",
    "                        \"tho\" : \"though\",\r\n",
    "                        \"thx\" : \"thank you\",\r\n",
    "                        \"tia\" : \"thanks in advance\",\r\n",
    "                        \"til\" : \"today i learned\",\r\n",
    "                        \"tl;dr\" : \"too long i did not read\",\r\n",
    "                        \"tldr\" : \"too long i did not read\",\r\n",
    "                        \"tmb\" : \"tweet me back\",\r\n",
    "                        \"tntl\" : \"trying not to laugh\",\r\n",
    "                        \"ttyl\" : \"talk to you later\",\r\n",
    "                        \"u\" : \"you\",\r\n",
    "                        \"u2\" : \"you too\",\r\n",
    "                        \"u4e\" : \"yours for ever\",\r\n",
    "                        \"utc\" : \"coordinated universal time\",\r\n",
    "                        \"w/\" : \"with\",\r\n",
    "                        \"w/o\" : \"without\",\r\n",
    "                        \"w8\" : \"wait\",\r\n",
    "                        \"wassup\" : \"what is up\",\r\n",
    "                        \"wb\" : \"welcome back\",\r\n",
    "                        \"wtf\" : \"what the fuck\",\r\n",
    "                        \"wtg\" : \"way to go\",\r\n",
    "                        \"wtpa\" : \"where the party at\",\r\n",
    "                        \"wuf\" : \"where are you from\",\r\n",
    "                        \"wuzup\" : \"what is up\",\r\n",
    "                        \"wywh\" : \"wish you were here\",\r\n",
    "                        \"yd\" : \"yard\",\r\n",
    "                        \"ygtr\" : \"you got that right\",\r\n",
    "                        \"ynk\" : \"you never know\",\r\n",
    "                        \"zzz\" : \"sleeping bored and tired\"\r\n",
    "                        }\r\n",
    "            \r\n",
    "        sample_typos_slang_pattern = re.compile(r'(?<!\\w)(' + '|'.join(re.escape(key) for key in sample_typos_slang.keys()) + r')(?!\\w)')\r\n",
    "        sample_acronyms_pattern = re.compile(r'(?<!\\w)(' + '|'.join(re.escape(key) for key in sample_acronyms.keys()) + r')(?!\\w)')\r\n",
    "        sample_abbr_pattern = re.compile(r'(?<!\\w)(' + '|'.join(re.escape(key) for key in sample_abbr.keys()) + r')(?!\\w)')\r\n",
    "        \r\n",
    "        text = sample_typos_slang_pattern.sub(lambda x: sample_typos_slang[x.group()], text)\r\n",
    "        text = sample_acronyms_pattern.sub(lambda x: sample_acronyms[x.group()], text)\r\n",
    "        text = sample_abbr_pattern.sub(lambda x: sample_abbr[x.group()], text)\r\n",
    "        \r\n",
    "        return text"
   ],
   "outputs": [],
   "metadata": {
    "id": "qQwTF4UWvFuq"
   }
  },
  {
   "cell_type": "code",
   "execution_count": 30,
   "source": [
    "train_df[\"text_clean\"] = train_df[\"text_clean\"].apply(lambda x: informalAbbreviations_clean(x))"
   ],
   "outputs": [],
   "metadata": {
    "id": "XinQSdMDz4eD"
   }
  },
  {
   "cell_type": "code",
   "execution_count": 31,
   "source": [
    "display(train_df.head())"
   ],
   "outputs": [
    {
     "output_type": "display_data",
     "data": {
      "text/plain": [
       "                                               tweet  label  \\\n",
       "0                    i don't like chatting with you.      0   \n",
       "1  you do not have friends, cause no body loves you.      1   \n",
       "2                        you don't deserve to exist.      1   \n",
       "3                   no one cares about your opinion.      1   \n",
       "4                                no one respect you.      1   \n",
       "\n",
       "                                          text_clean  \\\n",
       "0                  i do not like chatting with you .   \n",
       "1  you do not have friends , because no body love...   \n",
       "2                      you do not deserve to exist .   \n",
       "3                  no one cares about your opinion .   \n",
       "4                               no one respect you .   \n",
       "\n",
       "                                           tokenized  \n",
       "0         [i, do, not, like, chatting, with, you, .]  \n",
       "1  [you, do, not, have, friends, ,, because, no, ...  \n",
       "2              [you, do, not, deserve, to, exist, .]  \n",
       "3          [no, one, cares, about, your, opinion, .]  \n",
       "4                         [no, one, respect, you, .]  "
      ],
      "text/html": [
       "<div>\n",
       "<style scoped>\n",
       "    .dataframe tbody tr th:only-of-type {\n",
       "        vertical-align: middle;\n",
       "    }\n",
       "\n",
       "    .dataframe tbody tr th {\n",
       "        vertical-align: top;\n",
       "    }\n",
       "\n",
       "    .dataframe thead th {\n",
       "        text-align: right;\n",
       "    }\n",
       "</style>\n",
       "<table border=\"1\" class=\"dataframe\">\n",
       "  <thead>\n",
       "    <tr style=\"text-align: right;\">\n",
       "      <th></th>\n",
       "      <th>tweet</th>\n",
       "      <th>label</th>\n",
       "      <th>text_clean</th>\n",
       "      <th>tokenized</th>\n",
       "    </tr>\n",
       "  </thead>\n",
       "  <tbody>\n",
       "    <tr>\n",
       "      <th>0</th>\n",
       "      <td>i don't like chatting with you.</td>\n",
       "      <td>0</td>\n",
       "      <td>i do not like chatting with you .</td>\n",
       "      <td>[i, do, not, like, chatting, with, you, .]</td>\n",
       "    </tr>\n",
       "    <tr>\n",
       "      <th>1</th>\n",
       "      <td>you do not have friends, cause no body loves you.</td>\n",
       "      <td>1</td>\n",
       "      <td>you do not have friends , because no body love...</td>\n",
       "      <td>[you, do, not, have, friends, ,, because, no, ...</td>\n",
       "    </tr>\n",
       "    <tr>\n",
       "      <th>2</th>\n",
       "      <td>you don't deserve to exist.</td>\n",
       "      <td>1</td>\n",
       "      <td>you do not deserve to exist .</td>\n",
       "      <td>[you, do, not, deserve, to, exist, .]</td>\n",
       "    </tr>\n",
       "    <tr>\n",
       "      <th>3</th>\n",
       "      <td>no one cares about your opinion.</td>\n",
       "      <td>1</td>\n",
       "      <td>no one cares about your opinion .</td>\n",
       "      <td>[no, one, cares, about, your, opinion, .]</td>\n",
       "    </tr>\n",
       "    <tr>\n",
       "      <th>4</th>\n",
       "      <td>no one respect you.</td>\n",
       "      <td>1</td>\n",
       "      <td>no one respect you .</td>\n",
       "      <td>[no, one, respect, you, .]</td>\n",
       "    </tr>\n",
       "  </tbody>\n",
       "</table>\n",
       "</div>"
      ]
     },
     "metadata": {}
    }
   ],
   "metadata": {
    "colab": {
     "base_uri": "https://localhost:8080/",
     "height": 204
    },
    "id": "8I5fJ73U5e3_",
    "outputId": "5a7600c9-dca8-4572-d6d8-639825d6fcdc"
   }
  },
  {
   "cell_type": "markdown",
   "source": [
    "### Remove non ascii charcters"
   ],
   "metadata": {
    "id": "lQptCVO3sHbH"
   }
  },
  {
   "cell_type": "code",
   "execution_count": 32,
   "source": [
    "def remove_non_ascii(text):\r\n",
    "\r\n",
    "    \"\"\"\r\n",
    "        Remove non-ASCII characters \r\n",
    "    \"\"\"\r\n",
    "\r\n",
    "    return re.sub(r'[^\\x00-\\x7f]',r'', text) "
   ],
   "outputs": [],
   "metadata": {
    "id": "hWVtKJQOr9gX"
   }
  },
  {
   "cell_type": "code",
   "execution_count": 33,
   "source": [
    "train_df[\"text_clean\"] = train_df[\"text_clean\"].apply(lambda x: remove_non_ascii(x))"
   ],
   "outputs": [],
   "metadata": {
    "id": "12PeMtcer9qS"
   }
  },
  {
   "cell_type": "markdown",
   "source": [
    "### Remove any other special characters"
   ],
   "metadata": {
    "id": "kDA5QDoKsN9c"
   }
  },
  {
   "cell_type": "code",
   "execution_count": 34,
   "source": [
    "def remove_special_characters(text):\r\n",
    "    \"\"\"\r\n",
    "        Remove special special characters, including symbols, emojis, and other graphic characters\r\n",
    "    \"\"\"\r\n",
    "    emoji_pattern = re.compile(\r\n",
    "        '['\r\n",
    "        u'\\U0001F600-\\U0001F64F'  # emoticons\r\n",
    "        u'\\U0001F300-\\U0001F5FF'  # symbols & pictographs\r\n",
    "        u'\\U0001F680-\\U0001F6FF'  # transport & map symbols\r\n",
    "        u'\\U0001F1E0-\\U0001F1FF'  # flags (iOS)\r\n",
    "        u'\\U00002702-\\U000027B0'\r\n",
    "        u'\\U000024C2-\\U0001F251'\r\n",
    "        ']+',\r\n",
    "        flags=re.UNICODE)\r\n",
    "    return emoji_pattern.sub(r'', text)"
   ],
   "outputs": [],
   "metadata": {
    "id": "aK4HiF1ctyaM"
   }
  },
  {
   "cell_type": "code",
   "execution_count": 35,
   "source": [
    "train_df[\"text_clean\"] = train_df[\"text_clean\"].apply(lambda x: remove_special_characters(x))"
   ],
   "outputs": [],
   "metadata": {
    "id": "jJ-nIi9lt4q9"
   }
  },
  {
   "cell_type": "markdown",
   "source": [
    "### Handling the negation"
   ],
   "metadata": {}
  },
  {
   "cell_type": "code",
   "execution_count": 36,
   "source": [
    "def negate_sequence(text):\r\n",
    "    negation = False\r\n",
    "    delims = \"?.,!:;\"\r\n",
    "    result = []\r\n",
    "    words = text.split()\r\n",
    "    prev = None\r\n",
    "    pprev = None\r\n",
    "    for word in words:\r\n",
    "        stripped = word.strip(delims).lower()\r\n",
    "        negated = \"not_\" + stripped if negation else stripped\r\n",
    "        result.append(negated)\r\n",
    "\r\n",
    "        if any(neg in word for neg in [\"not\", \"n't\", \"no\",'none','neither','nor','never']):\r\n",
    "            negation = not negation\r\n",
    "\r\n",
    "        if any(c in word for c in delims):\r\n",
    "            negation = False\r\n",
    "\r\n",
    "    return result"
   ],
   "outputs": [],
   "metadata": {}
  },
  {
   "cell_type": "code",
   "execution_count": 37,
   "source": [
    "import nltk\r\n",
    "from nltk.corpus import wordnet\r\n",
    "\r\n",
    "def negation_function(x):   \r\n",
    "    synonyms = []\r\n",
    "    antonyms = []\r\n",
    "    for syn in wordnet.synsets(x):\r\n",
    "        for l in syn.lemmas():\r\n",
    "            synonyms.append(l.name())\r\n",
    "            if l.antonyms():\r\n",
    "                antonyms.append(l.antonyms()[0].name())\r\n",
    "               \r\n",
    "    if(len(antonyms) != 0):\r\n",
    "        return antonyms[0]\r\n",
    "    else:\r\n",
    "        return x"
   ],
   "outputs": [],
   "metadata": {}
  },
  {
   "cell_type": "code",
   "execution_count": 38,
   "source": [
    "def find_notWords(text):\r\n",
    "    neg = [\"not\", \"n't\", \"no\",'none','neither','nor','never']\r\n",
    "    if text in neg:\r\n",
    "        return \"#\"\r\n",
    "    else:\r\n",
    "        sub_str =\"not_\"\r\n",
    "        if (text.find(sub_str) != -1):\r\n",
    "            text = text.replace('not_','')\r\n",
    "            return negation_function(text) \r\n",
    "        else:\r\n",
    "            return text"
   ],
   "outputs": [],
   "metadata": {}
  },
  {
   "cell_type": "code",
   "execution_count": 39,
   "source": [
    "def Handling_negation(text):\r\n",
    "    split_negation = negate_sequence(text)\r\n",
    "    full_text = []\r\n",
    "    for i in range(len(split_negation)):\r\n",
    "        full_text.append(find_notWords(split_negation[i]))\r\n",
    "    full_text = list(filter(lambda x: x != \"#\", full_text))\r\n",
    "    return full_text   \r\n",
    "    "
   ],
   "outputs": [],
   "metadata": {}
  },
  {
   "cell_type": "code",
   "execution_count": 40,
   "source": [
    "train_df[\"text_clean\"] = train_df[\"text_clean\"].apply(lambda x: Handling_negation(x))\r\n",
    "train_df[\"text_clean\"] = [' '.join(map(str, l)) for l in train_df[\"text_clean\"]] "
   ],
   "outputs": [],
   "metadata": {}
  },
  {
   "cell_type": "code",
   "execution_count": 41,
   "source": [
    "display(train_df.head())"
   ],
   "outputs": [
    {
     "output_type": "display_data",
     "data": {
      "text/plain": [
       "                                               tweet  label  \\\n",
       "0                    i don't like chatting with you.      0   \n",
       "1  you do not have friends, cause no body loves you.      1   \n",
       "2                        you don't deserve to exist.      1   \n",
       "3                   no one cares about your opinion.      1   \n",
       "4                                no one respect you.      1   \n",
       "\n",
       "                                          text_clean  \\\n",
       "0                  i do not like chatting with you .   \n",
       "1  you do not have friends , because no body love...   \n",
       "2                      you do not deserve to exist .   \n",
       "3                  no one cares about your opinion .   \n",
       "4                               no one respect you .   \n",
       "\n",
       "                                           tokenized  \n",
       "0         [i, do, not, like, chatting, with, you, .]  \n",
       "1  [you, do, not, have, friends, ,, because, no, ...  \n",
       "2              [you, do, not, deserve, to, exist, .]  \n",
       "3          [no, one, cares, about, your, opinion, .]  \n",
       "4                         [no, one, respect, you, .]  "
      ],
      "text/html": [
       "<div>\n",
       "<style scoped>\n",
       "    .dataframe tbody tr th:only-of-type {\n",
       "        vertical-align: middle;\n",
       "    }\n",
       "\n",
       "    .dataframe tbody tr th {\n",
       "        vertical-align: top;\n",
       "    }\n",
       "\n",
       "    .dataframe thead th {\n",
       "        text-align: right;\n",
       "    }\n",
       "</style>\n",
       "<table border=\"1\" class=\"dataframe\">\n",
       "  <thead>\n",
       "    <tr style=\"text-align: right;\">\n",
       "      <th></th>\n",
       "      <th>tweet</th>\n",
       "      <th>label</th>\n",
       "      <th>text_clean</th>\n",
       "      <th>tokenized</th>\n",
       "    </tr>\n",
       "  </thead>\n",
       "  <tbody>\n",
       "    <tr>\n",
       "      <th>0</th>\n",
       "      <td>i don't like chatting with you.</td>\n",
       "      <td>0</td>\n",
       "      <td>i do not like chatting with you .</td>\n",
       "      <td>[i, do, not, like, chatting, with, you, .]</td>\n",
       "    </tr>\n",
       "    <tr>\n",
       "      <th>1</th>\n",
       "      <td>you do not have friends, cause no body loves you.</td>\n",
       "      <td>1</td>\n",
       "      <td>you do not have friends , because no body love...</td>\n",
       "      <td>[you, do, not, have, friends, ,, because, no, ...</td>\n",
       "    </tr>\n",
       "    <tr>\n",
       "      <th>2</th>\n",
       "      <td>you don't deserve to exist.</td>\n",
       "      <td>1</td>\n",
       "      <td>you do not deserve to exist .</td>\n",
       "      <td>[you, do, not, deserve, to, exist, .]</td>\n",
       "    </tr>\n",
       "    <tr>\n",
       "      <th>3</th>\n",
       "      <td>no one cares about your opinion.</td>\n",
       "      <td>1</td>\n",
       "      <td>no one cares about your opinion .</td>\n",
       "      <td>[no, one, cares, about, your, opinion, .]</td>\n",
       "    </tr>\n",
       "    <tr>\n",
       "      <th>4</th>\n",
       "      <td>no one respect you.</td>\n",
       "      <td>1</td>\n",
       "      <td>no one respect you .</td>\n",
       "      <td>[no, one, respect, you, .]</td>\n",
       "    </tr>\n",
       "  </tbody>\n",
       "</table>\n",
       "</div>"
      ]
     },
     "metadata": {}
    }
   ],
   "metadata": {}
  },
  {
   "cell_type": "markdown",
   "source": [
    "### Remove punctuation"
   ],
   "metadata": {
    "id": "DdFa7rJ4scmX"
   }
  },
  {
   "cell_type": "code",
   "execution_count": 42,
   "source": [
    "def remove_punct(text):\r\n",
    "    \"\"\"\r\n",
    "        Remove the punctuation\r\n",
    "    \"\"\"\r\n",
    "    return text.translate(str.maketrans('', '', string.punctuation))"
   ],
   "outputs": [],
   "metadata": {
    "id": "Cd5lpBLMt7gF"
   }
  },
  {
   "cell_type": "code",
   "execution_count": 43,
   "source": [
    "train_df[\"text_clean\"] = train_df[\"text_clean\"].apply(lambda x: remove_punct(x))"
   ],
   "outputs": [],
   "metadata": {
    "id": "Q3ba7b_qvC_y"
   }
  },
  {
   "cell_type": "markdown",
   "source": [
    "### Remove empty rows"
   ],
   "metadata": {
    "id": "vkITUuQQCBGQ"
   }
  },
  {
   "cell_type": "code",
   "execution_count": 44,
   "source": [
    "train_df[\"text_clean\"].replace('', np.nan, inplace=True)\r\n",
    "train_df.dropna(subset=[\"text_clean\"], inplace=True)"
   ],
   "outputs": [],
   "metadata": {
    "id": "uueNAwOTCJ-X"
   }
  },
  {
   "cell_type": "markdown",
   "source": [
    "\n",
    "# Text Preprocessing\n"
   ],
   "metadata": {
    "id": "YfOjDB_lhZRL"
   }
  },
  {
   "cell_type": "code",
   "execution_count": 45,
   "source": [
    "train_df.tail()"
   ],
   "outputs": [
    {
     "output_type": "execute_result",
     "data": {
      "text/plain": [
       "                                           tweet  label  \\\n",
       "10  Your mindset is not nice as you think it is.      1   \n",
       "11                             you are not ugly.      0   \n",
       "12                            you are not stuip.      1   \n",
       "13   She turned to be not ugly as we thought she      1   \n",
       "14     We did not love her before but we do now.      1   \n",
       "\n",
       "                                      text_clean  \\\n",
       "10  your mindset is not nice as you think it is    \n",
       "11                             you are not ugly    \n",
       "12                            you are not stuip    \n",
       "13   she turned to be not ugly as we thought she   \n",
       "14     we did not love her before but we do now    \n",
       "\n",
       "                                            tokenized  \n",
       "10  [Your, mindset, is, not, nice, as, you, think,...  \n",
       "11                           [you, are, not, ugly, .]  \n",
       "12                          [you, are, not, stuip, .]  \n",
       "13  [She, turned, to, be, not, ugly, as, we, thoug...  \n",
       "14  [We, did, not, love, her, before, but, we, do,...  "
      ],
      "text/html": [
       "<div>\n",
       "<style scoped>\n",
       "    .dataframe tbody tr th:only-of-type {\n",
       "        vertical-align: middle;\n",
       "    }\n",
       "\n",
       "    .dataframe tbody tr th {\n",
       "        vertical-align: top;\n",
       "    }\n",
       "\n",
       "    .dataframe thead th {\n",
       "        text-align: right;\n",
       "    }\n",
       "</style>\n",
       "<table border=\"1\" class=\"dataframe\">\n",
       "  <thead>\n",
       "    <tr style=\"text-align: right;\">\n",
       "      <th></th>\n",
       "      <th>tweet</th>\n",
       "      <th>label</th>\n",
       "      <th>text_clean</th>\n",
       "      <th>tokenized</th>\n",
       "    </tr>\n",
       "  </thead>\n",
       "  <tbody>\n",
       "    <tr>\n",
       "      <th>10</th>\n",
       "      <td>Your mindset is not nice as you think it is.</td>\n",
       "      <td>1</td>\n",
       "      <td>your mindset is not nice as you think it is</td>\n",
       "      <td>[Your, mindset, is, not, nice, as, you, think,...</td>\n",
       "    </tr>\n",
       "    <tr>\n",
       "      <th>11</th>\n",
       "      <td>you are not ugly.</td>\n",
       "      <td>0</td>\n",
       "      <td>you are not ugly</td>\n",
       "      <td>[you, are, not, ugly, .]</td>\n",
       "    </tr>\n",
       "    <tr>\n",
       "      <th>12</th>\n",
       "      <td>you are not stuip.</td>\n",
       "      <td>1</td>\n",
       "      <td>you are not stuip</td>\n",
       "      <td>[you, are, not, stuip, .]</td>\n",
       "    </tr>\n",
       "    <tr>\n",
       "      <th>13</th>\n",
       "      <td>She turned to be not ugly as we thought she</td>\n",
       "      <td>1</td>\n",
       "      <td>she turned to be not ugly as we thought she</td>\n",
       "      <td>[She, turned, to, be, not, ugly, as, we, thoug...</td>\n",
       "    </tr>\n",
       "    <tr>\n",
       "      <th>14</th>\n",
       "      <td>We did not love her before but we do now.</td>\n",
       "      <td>1</td>\n",
       "      <td>we did not love her before but we do now</td>\n",
       "      <td>[We, did, not, love, her, before, but, we, do,...</td>\n",
       "    </tr>\n",
       "  </tbody>\n",
       "</table>\n",
       "</div>"
      ]
     },
     "metadata": {},
     "execution_count": 45
    }
   ],
   "metadata": {}
  },
  {
   "cell_type": "markdown",
   "source": [
    "### **Tokenization**"
   ],
   "metadata": {
    "id": "1bAT3-7Xtw7_"
   }
  },
  {
   "cell_type": "code",
   "execution_count": 46,
   "source": [
    "\r\n",
    "from nltk.tokenize import word_tokenize\r\n",
    "\r\n",
    "train_df[\"tokenized\"] = train_df[\"text_clean\"].apply(word_tokenize)\r\n",
    "train_df.head()"
   ],
   "outputs": [
    {
     "output_type": "execute_result",
     "data": {
      "text/plain": [
       "                                               tweet  label  \\\n",
       "0                    i don't like chatting with you.      0   \n",
       "1  you do not have friends, cause no body loves you.      1   \n",
       "2                        you don't deserve to exist.      1   \n",
       "3                   no one cares about your opinion.      1   \n",
       "4                                no one respect you.      1   \n",
       "\n",
       "                                          text_clean  \\\n",
       "0                   i do not like chatting with you    \n",
       "1  you do not have friends  because no body loves...   \n",
       "2                       you do not deserve to exist    \n",
       "3                   no one cares about your opinion    \n",
       "4                                no one respect you    \n",
       "\n",
       "                                           tokenized  \n",
       "0            [i, do, not, like, chatting, with, you]  \n",
       "1  [you, do, not, have, friends, because, no, bod...  \n",
       "2                 [you, do, not, deserve, to, exist]  \n",
       "3             [no, one, cares, about, your, opinion]  \n",
       "4                            [no, one, respect, you]  "
      ],
      "text/html": [
       "<div>\n",
       "<style scoped>\n",
       "    .dataframe tbody tr th:only-of-type {\n",
       "        vertical-align: middle;\n",
       "    }\n",
       "\n",
       "    .dataframe tbody tr th {\n",
       "        vertical-align: top;\n",
       "    }\n",
       "\n",
       "    .dataframe thead th {\n",
       "        text-align: right;\n",
       "    }\n",
       "</style>\n",
       "<table border=\"1\" class=\"dataframe\">\n",
       "  <thead>\n",
       "    <tr style=\"text-align: right;\">\n",
       "      <th></th>\n",
       "      <th>tweet</th>\n",
       "      <th>label</th>\n",
       "      <th>text_clean</th>\n",
       "      <th>tokenized</th>\n",
       "    </tr>\n",
       "  </thead>\n",
       "  <tbody>\n",
       "    <tr>\n",
       "      <th>0</th>\n",
       "      <td>i don't like chatting with you.</td>\n",
       "      <td>0</td>\n",
       "      <td>i do not like chatting with you</td>\n",
       "      <td>[i, do, not, like, chatting, with, you]</td>\n",
       "    </tr>\n",
       "    <tr>\n",
       "      <th>1</th>\n",
       "      <td>you do not have friends, cause no body loves you.</td>\n",
       "      <td>1</td>\n",
       "      <td>you do not have friends  because no body loves...</td>\n",
       "      <td>[you, do, not, have, friends, because, no, bod...</td>\n",
       "    </tr>\n",
       "    <tr>\n",
       "      <th>2</th>\n",
       "      <td>you don't deserve to exist.</td>\n",
       "      <td>1</td>\n",
       "      <td>you do not deserve to exist</td>\n",
       "      <td>[you, do, not, deserve, to, exist]</td>\n",
       "    </tr>\n",
       "    <tr>\n",
       "      <th>3</th>\n",
       "      <td>no one cares about your opinion.</td>\n",
       "      <td>1</td>\n",
       "      <td>no one cares about your opinion</td>\n",
       "      <td>[no, one, cares, about, your, opinion]</td>\n",
       "    </tr>\n",
       "    <tr>\n",
       "      <th>4</th>\n",
       "      <td>no one respect you.</td>\n",
       "      <td>1</td>\n",
       "      <td>no one respect you</td>\n",
       "      <td>[no, one, respect, you]</td>\n",
       "    </tr>\n",
       "  </tbody>\n",
       "</table>\n",
       "</div>"
      ]
     },
     "metadata": {},
     "execution_count": 46
    }
   ],
   "metadata": {
    "colab": {
     "base_uri": "https://localhost:8080/",
     "height": 238
    },
    "id": "NSlKvw5IhYAp",
    "outputId": "6c21968f-c814-4747-8075-a3f56a71c0fd"
   }
  },
  {
   "cell_type": "markdown",
   "source": [
    "\n",
    "### **Remove stop word without the negation**"
   ],
   "metadata": {
    "id": "iHM4_fkLhOE9"
   }
  },
  {
   "cell_type": "code",
   "execution_count": 47,
   "source": [
    "My_stopWordList=['i', 'me', 'my', 'myself', 'we', 'our', 'ours', 'ourselves', 'you', \"you're\", \"you've\", \"you'll\", \"you'd\", 'your', 'yours', 'yourself', 'yourselves', 'he', 'him', 'his', 'himself', 'she', \"she's\", 'her', 'hers', 'herself', 'it', \"it's\", 'its', 'itself', 'they', 'them', 'their', 'theirs', 'themselves', 'what', 'which', 'who', 'whom', 'this', 'that', \"that'll\", 'these', 'those', 'am', 'is', 'are', 'was', 'were', 'be', 'been', 'being', 'have', 'has', 'had', 'having', 'do', 'does', 'did', 'doing', 'a', 'an', 'the', 'and', 'but', 'if', 'or', 'because', 'as', 'until', 'while', 'of', 'at', 'by', 'for', 'with', 'about', 'against', 'between', 'into', 'through', 'during', 'before', 'after', 'above', 'below', 'to', 'from', 'up', 'down', 'in', 'out', 'on', 'off', 'over', 'under', 'again', 'further', 'then', 'once', 'here', 'there', 'when', 'where', 'why', 'how', 'all', 'any', 'both', 'each', 'few', 'more', 'most', 'other', 'some', 'such', 'only', 'own', 'same', 'so', 'than', 'too', 'very', 's', 't', 'can', 'will', 'just', 'don', \"don't\", 'should', \"should've\", 'now', 'd', 'll', 'm', 'o', 're', 've', 'y', 'ain', 'aren', \"aren't\", 'couldn', \"couldn't\", 'didn', \"didn't\", 'doesn', \"doesn't\", 'hadn', \"hadn't\", 'hasn', \"hasn't\", 'haven', \"haven't\", 'isn', \"isn't\", 'ma', 'mightn', \"mightn't\", 'mustn', \"mustn't\", 'needn', \"needn't\", 'shan', \"shan't\", 'shouldn', \"shouldn't\", 'wasn', \"wasn't\", 'weren', \"weren't\", 'won', \"won't\", 'wouldn', \"wouldn't\" ]"
   ],
   "outputs": [],
   "metadata": {}
  },
  {
   "cell_type": "code",
   "execution_count": 48,
   "source": [
    "# stop = set(stopwords.words('english'))"
   ],
   "outputs": [],
   "metadata": {}
  },
  {
   "cell_type": "code",
   "execution_count": 49,
   "source": [
    "nltk.download(\"stopwords\")\r\n",
    "from nltk.corpus import stopwords\r\n",
    "\r\n",
    "\r\n",
    "train_df['stopwords_removed'] = train_df[\"tokenized\"].apply(lambda x: [word for word in x if word not in My_stopWordList ])"
   ],
   "outputs": [
    {
     "output_type": "stream",
     "name": "stderr",
     "text": [
      "[nltk_data] Error loading stopwords: <urlopen error [SSL:\n",
      "[nltk_data]     CERTIFICATE_VERIFY_FAILED] certificate verify failed:\n",
      "[nltk_data]     unable to get local issuer certificate (_ssl.c:1108)>\n"
     ]
    }
   ],
   "metadata": {
    "colab": {
     "base_uri": "https://localhost:8080/"
    },
    "id": "S57840OahNVx",
    "outputId": "81020f56-f84e-44a0-be7b-a86a44bfe593"
   }
  },
  {
   "cell_type": "code",
   "execution_count": 50,
   "source": [
    "# import nltk\r\n",
    "# import ssl\r\n",
    "\r\n",
    "# try:\r\n",
    "#     _create_unverified_https_context = ssl._create_unverified_context\r\n",
    "# except AttributeError:\r\n",
    "#     pass\r\n",
    "# else:\r\n",
    "#     ssl._create_default_https_context = _create_unverified_https_context\r\n",
    "\r\n",
    "# nltk.download()"
   ],
   "outputs": [],
   "metadata": {}
  },
  {
   "cell_type": "markdown",
   "source": [
    "### **Part of Speech Tagging (POS Tagging):**\n",
    "\n",
    "Part of speech tagging (POS tagging) distinguishes the part of speech (noun, verb, adjective, and etc.) of each word in the text."
   ],
   "metadata": {
    "id": "QEAsIAOmjplO"
   }
  },
  {
   "cell_type": "code",
   "execution_count": 51,
   "source": [
    "import nltk\r\n",
    "from nltk.corpus import wordnet\r\n",
    "from nltk.corpus import brown\r\n",
    "\r\n",
    "wordnet_map = {\"N\":wordnet.NOUN, \r\n",
    "               \"V\":wordnet.VERB, \r\n",
    "               \"J\":wordnet.ADJ, \r\n",
    "               \"R\":wordnet.ADV\r\n",
    "              }\r\n",
    "    \r\n",
    "train_sents = brown.tagged_sents(categories='news')\r\n",
    "t0 = nltk.DefaultTagger('NN')\r\n",
    "t1 = nltk.UnigramTagger(train_sents, backoff=t0)\r\n",
    "t2 = nltk.BigramTagger(train_sents, backoff=t1)\r\n",
    "\r\n",
    "def pos_tag_wordnet(text, pos_tag_type=\"pos_tag\"):\r\n",
    "    \"\"\"\r\n",
    "        Create pos_tag with wordnet format\r\n",
    "    \"\"\"\r\n",
    "    pos_tagged_text = t2.tag(text)\r\n",
    "    \r\n",
    "    # map the pos tagging output with wordnet output \r\n",
    "    pos_tagged_text = [(word, wordnet_map.get(pos_tag[0])) if pos_tag[0] in wordnet_map.keys() else (word, wordnet.NOUN) for (word, pos_tag) in pos_tagged_text ]\r\n",
    "    return pos_tagged_text"
   ],
   "outputs": [],
   "metadata": {
    "colab": {
     "base_uri": "https://localhost:8080/"
    },
    "id": "X93d9jNBjpKw",
    "outputId": "a5946792-8431-4ccb-9711-01016e8231f9"
   }
  },
  {
   "cell_type": "code",
   "execution_count": 52,
   "source": [
    "train_df['pos_tag'] = train_df['stopwords_removed'].apply(lambda x: pos_tag_wordnet(x))"
   ],
   "outputs": [],
   "metadata": {
    "id": "PsxJo-ZMjzed"
   }
  },
  {
   "cell_type": "markdown",
   "source": [
    "### **Lemmatization:**\n",
    "\n",
    "Lemmatization is the task of determining that two words have the same root, despite their surface differences. The words am, are, and is have the shared lemma be; the words dinner and dinners both have the lemma dinner. \n",
    "Lemmatizing each of these forms to the same lemma will let us ﬁnd all mentions of words in Russian like Moscow."
   ],
   "metadata": {
    "id": "ovWC2bDEj8BS"
   }
  },
  {
   "cell_type": "code",
   "execution_count": 53,
   "source": [
    "from nltk.stem import WordNetLemmatizer\r\n",
    "\r\n",
    "def lemmatize_word(text):\r\n",
    "    \"\"\"\r\n",
    "        Lemmatize the tokenized words\r\n",
    "    \"\"\"\r\n",
    "\r\n",
    "    lemmatizer = WordNetLemmatizer()\r\n",
    "    lemma = [lemmatizer.lemmatize(word, tag) for word, tag in text]\r\n",
    "    return lemma"
   ],
   "outputs": [],
   "metadata": {
    "id": "21FBhMGsS0t1"
   }
  },
  {
   "cell_type": "code",
   "execution_count": 54,
   "source": [
    "# from nltk.stem import WordNetLemmatizer as form_replacer\r\n",
    "# lemmatized_irr2 = list(set([form_replacer().lemmatize(x) for x in ['isis','one']]))\r\n",
    "# print(lemmatized_irr2 )\r\n",
    "# #apply(lambda x: [lemmatizer.lemmatize(word) for word in x)"
   ],
   "outputs": [],
   "metadata": {}
  },
  {
   "cell_type": "code",
   "execution_count": 55,
   "source": [
    "from nltk.stem import WordNetLemmatizer\r\n",
    "lemmatizer = WordNetLemmatizer()\r\n",
    "\r\n",
    "train_df['lemmatize_word_w_pos'] = train_df['pos_tag'].apply(lambda x: lemmatize_word(x))\r\n",
    "train_df['lemmatize_text'] = [' '.join(map(str, l)) for l in train_df['lemmatize_word_w_pos']] # join back to text"
   ],
   "outputs": [],
   "metadata": {
    "id": "Y-AQijDVkNRs"
   }
  },
  {
   "cell_type": "markdown",
   "source": [
    "### Double check that there is not any empty row after cleaning"
   ],
   "metadata": {}
  },
  {
   "cell_type": "code",
   "execution_count": 56,
   "source": [
    "train_df['lemmatize_text'].replace('', np.nan, inplace=True)\r\n",
    "train_df.dropna(subset=['lemmatize_text'], inplace=True)"
   ],
   "outputs": [],
   "metadata": {}
  },
  {
   "cell_type": "markdown",
   "source": [
    "### **Saving Dataset**"
   ],
   "metadata": {
    "id": "9UtI18Fft6pA"
   }
  },
  {
   "cell_type": "code",
   "execution_count": 57,
   "source": [
    "train_df['lemmatize_text'].to_csv('nameOfCsv.csv')# choose the name to be saved with "
   ],
   "outputs": [],
   "metadata": {
    "id": "oPgGeR4j9NKz"
   }
  }
 ],
 "metadata": {
  "accelerator": "GPU",
  "colab": {
   "collapsed_sections": [],
   "name": "GP Model 2.ipynb",
   "provenance": []
  },
  "kernelspec": {
   "display_name": "Python 3",
   "language": "python",
   "name": "python3"
  },
  "language_info": {
   "codemirror_mode": {
    "name": "ipython",
    "version": 3
   },
   "file_extension": ".py",
   "mimetype": "text/x-python",
   "name": "python",
   "nbconvert_exporter": "python",
   "pygments_lexer": "ipython3",
   "version": "3.8.10"
  }
 },
 "nbformat": 4,
 "nbformat_minor": 1
}